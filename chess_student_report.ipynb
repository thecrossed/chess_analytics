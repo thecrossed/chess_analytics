{
 "cells": [
  {
   "cell_type": "code",
   "execution_count": 100,
   "id": "87357b53",
   "metadata": {},
   "outputs": [],
   "source": [
    "import pandas as pd\n",
    "import numpy as np\n",
    "\n",
    "import plotly.express as px\n",
    "\n"
   ]
  },
  {
   "cell_type": "code",
   "execution_count": 5,
   "id": "a0fc2850",
   "metadata": {},
   "outputs": [],
   "source": [
    "players = pd.read_csv(\"player_tianmin_class.csv\")\n",
    "\n",
    "games = pd.read_csv(\"tianmin_chess_class.csv\")\n",
    "\n",
    "moves = pd.read_csv(\"move_tianmin_class.csv\")"
   ]
  },
  {
   "cell_type": "code",
   "execution_count": 3,
   "id": "01a2011b",
   "metadata": {},
   "outputs": [
    {
     "data": {
      "text/html": [
       "<div>\n",
       "<style scoped>\n",
       "    .dataframe tbody tr th:only-of-type {\n",
       "        vertical-align: middle;\n",
       "    }\n",
       "\n",
       "    .dataframe tbody tr th {\n",
       "        vertical-align: top;\n",
       "    }\n",
       "\n",
       "    .dataframe thead th {\n",
       "        text-align: right;\n",
       "    }\n",
       "</style>\n",
       "<table border=\"1\" class=\"dataframe\">\n",
       "  <thead>\n",
       "    <tr style=\"text-align: right;\">\n",
       "      <th></th>\n",
       "      <th>Unnamed: 0</th>\n",
       "      <th>username</th>\n",
       "      <th>urls</th>\n",
       "      <th>time_control</th>\n",
       "      <th>end_time</th>\n",
       "      <th>uuid</th>\n",
       "      <th>initial_setup</th>\n",
       "      <th>time_class</th>\n",
       "      <th>rules</th>\n",
       "      <th>white_rating</th>\n",
       "      <th>...</th>\n",
       "      <th>ECOUrl</th>\n",
       "      <th>EndDate</th>\n",
       "      <th>EndTime</th>\n",
       "      <th>StartTime</th>\n",
       "      <th>Termination</th>\n",
       "      <th>Timezone</th>\n",
       "      <th>UTCDate</th>\n",
       "      <th>UTCTime</th>\n",
       "      <th>class</th>\n",
       "      <th>player_rating</th>\n",
       "    </tr>\n",
       "  </thead>\n",
       "  <tbody>\n",
       "    <tr>\n",
       "      <th>0</th>\n",
       "      <td>0</td>\n",
       "      <td>AGcuber19</td>\n",
       "      <td>https://www.chess.com/game/live/63764962677</td>\n",
       "      <td>600</td>\n",
       "      <td>1670026173</td>\n",
       "      <td>efe6de36-729d-11ed-a69d-78ac4409ff3c</td>\n",
       "      <td>rnbqkbnr/pppppppp/8/8/8/8/PPPPPPPP/RNBQKBNR w ...</td>\n",
       "      <td>rapid</td>\n",
       "      <td>chess</td>\n",
       "      <td>739</td>\n",
       "      <td>...</td>\n",
       "      <td>https://www.chess.com/openings/Englund-Gambit-...</td>\n",
       "      <td>2022.12.03</td>\n",
       "      <td>00:09:33</td>\n",
       "      <td>00:03:42</td>\n",
       "      <td>nien-eleven won by resignation</td>\n",
       "      <td>UTC</td>\n",
       "      <td>2022.12.03</td>\n",
       "      <td>00:03:42</td>\n",
       "      <td>BO</td>\n",
       "      <td>640</td>\n",
       "    </tr>\n",
       "    <tr>\n",
       "      <th>1</th>\n",
       "      <td>1</td>\n",
       "      <td>AGcuber19</td>\n",
       "      <td>https://www.chess.com/game/live/63765037219</td>\n",
       "      <td>600</td>\n",
       "      <td>1670027162</td>\n",
       "      <td>c44f652e-729e-11ed-a69d-78ac4409ff3c</td>\n",
       "      <td>rnbqkbnr/pppppppp/8/8/8/8/PPPPPPPP/RNBQKBNR w ...</td>\n",
       "      <td>rapid</td>\n",
       "      <td>chess</td>\n",
       "      <td>602</td>\n",
       "      <td>...</td>\n",
       "      <td>https://www.chess.com/openings/Kings-Pawn-Open...</td>\n",
       "      <td>2022.12.03</td>\n",
       "      <td>00:26:02</td>\n",
       "      <td>00:09:35</td>\n",
       "      <td>Sebastianbulowthomsen won by checkmate</td>\n",
       "      <td>UTC</td>\n",
       "      <td>2022.12.03</td>\n",
       "      <td>00:09:35</td>\n",
       "      <td>BO</td>\n",
       "      <td>631</td>\n",
       "    </tr>\n",
       "    <tr>\n",
       "      <th>2</th>\n",
       "      <td>2</td>\n",
       "      <td>AGcuber19</td>\n",
       "      <td>https://www.chess.com/game/live/63766207495</td>\n",
       "      <td>600</td>\n",
       "      <td>1670027246</td>\n",
       "      <td>3fc79932-72a1-11ed-a69d-78ac4409ff3c</td>\n",
       "      <td>rnbqkbnr/pppppppp/8/8/8/8/PPPPPPPP/RNBQKBNR w ...</td>\n",
       "      <td>rapid</td>\n",
       "      <td>chess</td>\n",
       "      <td>605</td>\n",
       "      <td>...</td>\n",
       "      <td>https://www.chess.com/openings/Nimzowitsch-Def...</td>\n",
       "      <td>2022.12.03</td>\n",
       "      <td>00:39:02</td>\n",
       "      <td>00:27:28</td>\n",
       "      <td>Eric_Carstens won by resignation</td>\n",
       "      <td>UTC</td>\n",
       "      <td>2022.12.03</td>\n",
       "      <td>00:27:28</td>\n",
       "      <td>BO</td>\n",
       "      <td>639</td>\n",
       "    </tr>\n",
       "    <tr>\n",
       "      <th>3</th>\n",
       "      <td>3</td>\n",
       "      <td>AGcuber19</td>\n",
       "      <td>https://www.chess.com/game/live/63766210035</td>\n",
       "      <td>600</td>\n",
       "      <td>1670027942</td>\n",
       "      <td>46e3ab94-72a1-11ed-a69d-78ac4409ff3c</td>\n",
       "      <td>rnbqkbnr/pppppppp/8/8/8/8/PPPPPPPP/RNBQKBNR w ...</td>\n",
       "      <td>rapid</td>\n",
       "      <td>chess</td>\n",
       "      <td>631</td>\n",
       "      <td>...</td>\n",
       "      <td>https://www.chess.com/openings/Kings-Pawn-Open...</td>\n",
       "      <td>2022.12.03</td>\n",
       "      <td>00:40:45</td>\n",
       "      <td>00:39:07</td>\n",
       "      <td>AGcuber19 won - game abandoned</td>\n",
       "      <td>UTC</td>\n",
       "      <td>2022.12.03</td>\n",
       "      <td>00:39:07</td>\n",
       "      <td>BO</td>\n",
       "      <td>631</td>\n",
       "    </tr>\n",
       "    <tr>\n",
       "      <th>4</th>\n",
       "      <td>4</td>\n",
       "      <td>AGcuber19</td>\n",
       "      <td>https://www.chess.com/game/live/63766827497</td>\n",
       "      <td>600</td>\n",
       "      <td>1670028045</td>\n",
       "      <td>e39207bd-72a2-11ed-a69d-78ac4409ff3c</td>\n",
       "      <td>rnbqkbnr/pppppppp/8/8/8/8/PPPPPPPP/RNBQKBNR w ...</td>\n",
       "      <td>rapid</td>\n",
       "      <td>chess</td>\n",
       "      <td>637</td>\n",
       "      <td>...</td>\n",
       "      <td>https://www.chess.com/openings/Kings-Pawn-Open...</td>\n",
       "      <td>2022.12.03</td>\n",
       "      <td>00:51:06</td>\n",
       "      <td>00:41:26</td>\n",
       "      <td>AGcuber19 won - game abandoned</td>\n",
       "      <td>UTC</td>\n",
       "      <td>2022.12.03</td>\n",
       "      <td>00:41:26</td>\n",
       "      <td>BO</td>\n",
       "      <td>637</td>\n",
       "    </tr>\n",
       "  </tbody>\n",
       "</table>\n",
       "<p>5 rows × 31 columns</p>\n",
       "</div>"
      ],
      "text/plain": [
       "   Unnamed: 0   username                                         urls  \\\n",
       "0           0  AGcuber19  https://www.chess.com/game/live/63764962677   \n",
       "1           1  AGcuber19  https://www.chess.com/game/live/63765037219   \n",
       "2           2  AGcuber19  https://www.chess.com/game/live/63766207495   \n",
       "3           3  AGcuber19  https://www.chess.com/game/live/63766210035   \n",
       "4           4  AGcuber19  https://www.chess.com/game/live/63766827497   \n",
       "\n",
       "  time_control    end_time                                  uuid  \\\n",
       "0          600  1670026173  efe6de36-729d-11ed-a69d-78ac4409ff3c   \n",
       "1          600  1670027162  c44f652e-729e-11ed-a69d-78ac4409ff3c   \n",
       "2          600  1670027246  3fc79932-72a1-11ed-a69d-78ac4409ff3c   \n",
       "3          600  1670027942  46e3ab94-72a1-11ed-a69d-78ac4409ff3c   \n",
       "4          600  1670028045  e39207bd-72a2-11ed-a69d-78ac4409ff3c   \n",
       "\n",
       "                                       initial_setup time_class  rules  \\\n",
       "0  rnbqkbnr/pppppppp/8/8/8/8/PPPPPPPP/RNBQKBNR w ...      rapid  chess   \n",
       "1  rnbqkbnr/pppppppp/8/8/8/8/PPPPPPPP/RNBQKBNR w ...      rapid  chess   \n",
       "2  rnbqkbnr/pppppppp/8/8/8/8/PPPPPPPP/RNBQKBNR w ...      rapid  chess   \n",
       "3  rnbqkbnr/pppppppp/8/8/8/8/PPPPPPPP/RNBQKBNR w ...      rapid  chess   \n",
       "4  rnbqkbnr/pppppppp/8/8/8/8/PPPPPPPP/RNBQKBNR w ...      rapid  chess   \n",
       "\n",
       "   white_rating  ...                                             ECOUrl  \\\n",
       "0           739  ...  https://www.chess.com/openings/Englund-Gambit-...   \n",
       "1           602  ...  https://www.chess.com/openings/Kings-Pawn-Open...   \n",
       "2           605  ...  https://www.chess.com/openings/Nimzowitsch-Def...   \n",
       "3           631  ...  https://www.chess.com/openings/Kings-Pawn-Open...   \n",
       "4           637  ...  https://www.chess.com/openings/Kings-Pawn-Open...   \n",
       "\n",
       "      EndDate   EndTime StartTime                             Termination  \\\n",
       "0  2022.12.03  00:09:33  00:03:42          nien-eleven won by resignation   \n",
       "1  2022.12.03  00:26:02  00:09:35  Sebastianbulowthomsen won by checkmate   \n",
       "2  2022.12.03  00:39:02  00:27:28        Eric_Carstens won by resignation   \n",
       "3  2022.12.03  00:40:45  00:39:07          AGcuber19 won - game abandoned   \n",
       "4  2022.12.03  00:51:06  00:41:26          AGcuber19 won - game abandoned   \n",
       "\n",
       "  Timezone     UTCDate   UTCTime class player_rating  \n",
       "0      UTC  2022.12.03  00:03:42    BO           640  \n",
       "1      UTC  2022.12.03  00:09:35    BO           631  \n",
       "2      UTC  2022.12.03  00:27:28    BO           639  \n",
       "3      UTC  2022.12.03  00:39:07    BO           631  \n",
       "4      UTC  2022.12.03  00:41:26    BO           637  \n",
       "\n",
       "[5 rows x 31 columns]"
      ]
     },
     "execution_count": 3,
     "metadata": {},
     "output_type": "execute_result"
    }
   ],
   "source": [
    "players.head()"
   ]
  },
  {
   "cell_type": "code",
   "execution_count": 4,
   "id": "48988fd0",
   "metadata": {},
   "outputs": [
    {
     "data": {
      "text/html": [
       "<div>\n",
       "<style scoped>\n",
       "    .dataframe tbody tr th:only-of-type {\n",
       "        vertical-align: middle;\n",
       "    }\n",
       "\n",
       "    .dataframe tbody tr th {\n",
       "        vertical-align: top;\n",
       "    }\n",
       "\n",
       "    .dataframe thead th {\n",
       "        text-align: right;\n",
       "    }\n",
       "</style>\n",
       "<table border=\"1\" class=\"dataframe\">\n",
       "  <thead>\n",
       "    <tr style=\"text-align: right;\">\n",
       "      <th></th>\n",
       "      <th>timestamp</th>\n",
       "      <th>username</th>\n",
       "      <th>urls</th>\n",
       "      <th>time_control</th>\n",
       "      <th>end_time</th>\n",
       "      <th>uuid</th>\n",
       "      <th>initial_setup</th>\n",
       "      <th>time_class</th>\n",
       "      <th>rules</th>\n",
       "      <th>white_rating</th>\n",
       "      <th>...</th>\n",
       "      <th>EndTime</th>\n",
       "      <th>StartTime</th>\n",
       "      <th>Termination</th>\n",
       "      <th>Timezone</th>\n",
       "      <th>UTCDate</th>\n",
       "      <th>UTCTime</th>\n",
       "      <th>player_rating</th>\n",
       "      <th>year</th>\n",
       "      <th>month</th>\n",
       "      <th>day</th>\n",
       "    </tr>\n",
       "  </thead>\n",
       "  <tbody>\n",
       "    <tr>\n",
       "      <th>0</th>\n",
       "      <td>2022-12-03 00:09:33</td>\n",
       "      <td>AGcuber19</td>\n",
       "      <td>https://www.chess.com/game/live/63764962677</td>\n",
       "      <td>600</td>\n",
       "      <td>1670026173</td>\n",
       "      <td>efe6de36-729d-11ed-a69d-78ac4409ff3c</td>\n",
       "      <td>rnbqkbnr/pppppppp/8/8/8/8/PPPPPPPP/RNBQKBNR w ...</td>\n",
       "      <td>rapid</td>\n",
       "      <td>chess</td>\n",
       "      <td>739</td>\n",
       "      <td>...</td>\n",
       "      <td>00:09:33</td>\n",
       "      <td>00:03:42</td>\n",
       "      <td>nien-eleven won by resignation</td>\n",
       "      <td>UTC</td>\n",
       "      <td>2022.12.03</td>\n",
       "      <td>00:03:42</td>\n",
       "      <td>640</td>\n",
       "      <td>2022</td>\n",
       "      <td>12</td>\n",
       "      <td>3</td>\n",
       "    </tr>\n",
       "    <tr>\n",
       "      <th>1</th>\n",
       "      <td>2022-12-03 00:26:02</td>\n",
       "      <td>AGcuber19</td>\n",
       "      <td>https://www.chess.com/game/live/63765037219</td>\n",
       "      <td>600</td>\n",
       "      <td>1670027162</td>\n",
       "      <td>c44f652e-729e-11ed-a69d-78ac4409ff3c</td>\n",
       "      <td>rnbqkbnr/pppppppp/8/8/8/8/PPPPPPPP/RNBQKBNR w ...</td>\n",
       "      <td>rapid</td>\n",
       "      <td>chess</td>\n",
       "      <td>602</td>\n",
       "      <td>...</td>\n",
       "      <td>00:26:02</td>\n",
       "      <td>00:09:35</td>\n",
       "      <td>Sebastianbulowthomsen won by checkmate</td>\n",
       "      <td>UTC</td>\n",
       "      <td>2022.12.03</td>\n",
       "      <td>00:09:35</td>\n",
       "      <td>631</td>\n",
       "      <td>2022</td>\n",
       "      <td>12</td>\n",
       "      <td>3</td>\n",
       "    </tr>\n",
       "    <tr>\n",
       "      <th>2</th>\n",
       "      <td>2022-12-03 00:27:26</td>\n",
       "      <td>AGcuber19</td>\n",
       "      <td>https://www.chess.com/game/live/63766207495</td>\n",
       "      <td>600</td>\n",
       "      <td>1670027246</td>\n",
       "      <td>3fc79932-72a1-11ed-a69d-78ac4409ff3c</td>\n",
       "      <td>rnbqkbnr/pppppppp/8/8/8/8/PPPPPPPP/RNBQKBNR w ...</td>\n",
       "      <td>rapid</td>\n",
       "      <td>chess</td>\n",
       "      <td>605</td>\n",
       "      <td>...</td>\n",
       "      <td>00:39:02</td>\n",
       "      <td>00:27:28</td>\n",
       "      <td>Eric_Carstens won by resignation</td>\n",
       "      <td>UTC</td>\n",
       "      <td>2022.12.03</td>\n",
       "      <td>00:27:28</td>\n",
       "      <td>639</td>\n",
       "      <td>2022</td>\n",
       "      <td>12</td>\n",
       "      <td>3</td>\n",
       "    </tr>\n",
       "    <tr>\n",
       "      <th>3</th>\n",
       "      <td>2022-12-03 00:39:02</td>\n",
       "      <td>AGcuber19</td>\n",
       "      <td>https://www.chess.com/game/live/63766210035</td>\n",
       "      <td>600</td>\n",
       "      <td>1670027942</td>\n",
       "      <td>46e3ab94-72a1-11ed-a69d-78ac4409ff3c</td>\n",
       "      <td>rnbqkbnr/pppppppp/8/8/8/8/PPPPPPPP/RNBQKBNR w ...</td>\n",
       "      <td>rapid</td>\n",
       "      <td>chess</td>\n",
       "      <td>631</td>\n",
       "      <td>...</td>\n",
       "      <td>00:40:45</td>\n",
       "      <td>00:39:07</td>\n",
       "      <td>AGcuber19 won - game abandoned</td>\n",
       "      <td>UTC</td>\n",
       "      <td>2022.12.03</td>\n",
       "      <td>00:39:07</td>\n",
       "      <td>631</td>\n",
       "      <td>2022</td>\n",
       "      <td>12</td>\n",
       "      <td>3</td>\n",
       "    </tr>\n",
       "    <tr>\n",
       "      <th>4</th>\n",
       "      <td>2022-12-03 00:40:45</td>\n",
       "      <td>AGcuber19</td>\n",
       "      <td>https://www.chess.com/game/live/63766827497</td>\n",
       "      <td>600</td>\n",
       "      <td>1670028045</td>\n",
       "      <td>e39207bd-72a2-11ed-a69d-78ac4409ff3c</td>\n",
       "      <td>rnbqkbnr/pppppppp/8/8/8/8/PPPPPPPP/RNBQKBNR w ...</td>\n",
       "      <td>rapid</td>\n",
       "      <td>chess</td>\n",
       "      <td>637</td>\n",
       "      <td>...</td>\n",
       "      <td>00:51:06</td>\n",
       "      <td>00:41:26</td>\n",
       "      <td>AGcuber19 won - game abandoned</td>\n",
       "      <td>UTC</td>\n",
       "      <td>2022.12.03</td>\n",
       "      <td>00:41:26</td>\n",
       "      <td>637</td>\n",
       "      <td>2022</td>\n",
       "      <td>12</td>\n",
       "      <td>3</td>\n",
       "    </tr>\n",
       "  </tbody>\n",
       "</table>\n",
       "<p>5 rows × 33 columns</p>\n",
       "</div>"
      ],
      "text/plain": [
       "             timestamp   username  \\\n",
       "0  2022-12-03 00:09:33  AGcuber19   \n",
       "1  2022-12-03 00:26:02  AGcuber19   \n",
       "2  2022-12-03 00:27:26  AGcuber19   \n",
       "3  2022-12-03 00:39:02  AGcuber19   \n",
       "4  2022-12-03 00:40:45  AGcuber19   \n",
       "\n",
       "                                          urls time_control    end_time  \\\n",
       "0  https://www.chess.com/game/live/63764962677          600  1670026173   \n",
       "1  https://www.chess.com/game/live/63765037219          600  1670027162   \n",
       "2  https://www.chess.com/game/live/63766207495          600  1670027246   \n",
       "3  https://www.chess.com/game/live/63766210035          600  1670027942   \n",
       "4  https://www.chess.com/game/live/63766827497          600  1670028045   \n",
       "\n",
       "                                   uuid  \\\n",
       "0  efe6de36-729d-11ed-a69d-78ac4409ff3c   \n",
       "1  c44f652e-729e-11ed-a69d-78ac4409ff3c   \n",
       "2  3fc79932-72a1-11ed-a69d-78ac4409ff3c   \n",
       "3  46e3ab94-72a1-11ed-a69d-78ac4409ff3c   \n",
       "4  e39207bd-72a2-11ed-a69d-78ac4409ff3c   \n",
       "\n",
       "                                       initial_setup time_class  rules  \\\n",
       "0  rnbqkbnr/pppppppp/8/8/8/8/PPPPPPPP/RNBQKBNR w ...      rapid  chess   \n",
       "1  rnbqkbnr/pppppppp/8/8/8/8/PPPPPPPP/RNBQKBNR w ...      rapid  chess   \n",
       "2  rnbqkbnr/pppppppp/8/8/8/8/PPPPPPPP/RNBQKBNR w ...      rapid  chess   \n",
       "3  rnbqkbnr/pppppppp/8/8/8/8/PPPPPPPP/RNBQKBNR w ...      rapid  chess   \n",
       "4  rnbqkbnr/pppppppp/8/8/8/8/PPPPPPPP/RNBQKBNR w ...      rapid  chess   \n",
       "\n",
       "   white_rating  ...   EndTime  StartTime  \\\n",
       "0           739  ...  00:09:33   00:03:42   \n",
       "1           602  ...  00:26:02   00:09:35   \n",
       "2           605  ...  00:39:02   00:27:28   \n",
       "3           631  ...  00:40:45   00:39:07   \n",
       "4           637  ...  00:51:06   00:41:26   \n",
       "\n",
       "                              Termination Timezone     UTCDate   UTCTime  \\\n",
       "0          nien-eleven won by resignation      UTC  2022.12.03  00:03:42   \n",
       "1  Sebastianbulowthomsen won by checkmate      UTC  2022.12.03  00:09:35   \n",
       "2        Eric_Carstens won by resignation      UTC  2022.12.03  00:27:28   \n",
       "3          AGcuber19 won - game abandoned      UTC  2022.12.03  00:39:07   \n",
       "4          AGcuber19 won - game abandoned      UTC  2022.12.03  00:41:26   \n",
       "\n",
       "  player_rating  year month day  \n",
       "0           640  2022    12   3  \n",
       "1           631  2022    12   3  \n",
       "2           639  2022    12   3  \n",
       "3           631  2022    12   3  \n",
       "4           637  2022    12   3  \n",
       "\n",
       "[5 rows x 33 columns]"
      ]
     },
     "execution_count": 4,
     "metadata": {},
     "output_type": "execute_result"
    }
   ],
   "source": [
    "games.head()"
   ]
  },
  {
   "cell_type": "code",
   "execution_count": 19,
   "id": "46bbcfaa",
   "metadata": {},
   "outputs": [
    {
     "data": {
      "text/plain": [
       "Index(['timestamp', 'username', 'urls', 'time_control', 'end_time', 'uuid',\n",
       "       'initial_setup', 'time_class', 'rules', 'white_rating',\n",
       "       'white_username', 'black_rating', 'black_username', 'pgn', 'event',\n",
       "       'Site', 'Date', 'Round', 'Result', 'CurrentPosition', 'ECO', 'ECOUrl',\n",
       "       'EndDate', 'EndTime', 'StartTime', 'Termination', 'Timezone', 'UTCDate',\n",
       "       'UTCTime', 'player_rating', 'year', 'month', 'day'],\n",
       "      dtype='object')"
      ]
     },
     "execution_count": 19,
     "metadata": {},
     "output_type": "execute_result"
    }
   ],
   "source": [
    "games.columns"
   ]
  },
  {
   "cell_type": "code",
   "execution_count": 6,
   "id": "e780b7e2",
   "metadata": {},
   "outputs": [
    {
     "data": {
      "text/html": [
       "<div>\n",
       "<style scoped>\n",
       "    .dataframe tbody tr th:only-of-type {\n",
       "        vertical-align: middle;\n",
       "    }\n",
       "\n",
       "    .dataframe tbody tr th {\n",
       "        vertical-align: top;\n",
       "    }\n",
       "\n",
       "    .dataframe thead th {\n",
       "        text-align: right;\n",
       "    }\n",
       "</style>\n",
       "<table border=\"1\" class=\"dataframe\">\n",
       "  <thead>\n",
       "    <tr style=\"text-align: right;\">\n",
       "      <th></th>\n",
       "      <th>Unnamed: 0</th>\n",
       "      <th>uuid</th>\n",
       "      <th>move_number</th>\n",
       "      <th>white_move</th>\n",
       "      <th>black_move</th>\n",
       "      <th>white_time</th>\n",
       "      <th>black_time</th>\n",
       "    </tr>\n",
       "  </thead>\n",
       "  <tbody>\n",
       "    <tr>\n",
       "      <th>0</th>\n",
       "      <td>0</td>\n",
       "      <td>efe6de36-729d-11ed-a69d-78ac4409ff3c</td>\n",
       "      <td>1</td>\n",
       "      <td>d4</td>\n",
       "      <td>e5</td>\n",
       "      <td>0:10:00</td>\n",
       "      <td>0:09:57.4</td>\n",
       "    </tr>\n",
       "    <tr>\n",
       "      <th>1</th>\n",
       "      <td>1</td>\n",
       "      <td>efe6de36-729d-11ed-a69d-78ac4409ff3c</td>\n",
       "      <td>2</td>\n",
       "      <td>dxe5</td>\n",
       "      <td>Qh4</td>\n",
       "      <td>0:09:58.8</td>\n",
       "      <td>0:09:54.9</td>\n",
       "    </tr>\n",
       "    <tr>\n",
       "      <th>2</th>\n",
       "      <td>2</td>\n",
       "      <td>efe6de36-729d-11ed-a69d-78ac4409ff3c</td>\n",
       "      <td>3</td>\n",
       "      <td>Nf3</td>\n",
       "      <td>Qb4+</td>\n",
       "      <td>0:09:57.4</td>\n",
       "      <td>0:09:47.4</td>\n",
       "    </tr>\n",
       "    <tr>\n",
       "      <th>3</th>\n",
       "      <td>3</td>\n",
       "      <td>efe6de36-729d-11ed-a69d-78ac4409ff3c</td>\n",
       "      <td>4</td>\n",
       "      <td>c3</td>\n",
       "      <td>Qb6</td>\n",
       "      <td>0:09:52.9</td>\n",
       "      <td>0:09:31.2</td>\n",
       "    </tr>\n",
       "    <tr>\n",
       "      <th>4</th>\n",
       "      <td>4</td>\n",
       "      <td>efe6de36-729d-11ed-a69d-78ac4409ff3c</td>\n",
       "      <td>5</td>\n",
       "      <td>Be3</td>\n",
       "      <td>Qxb2</td>\n",
       "      <td>0:09:45.6</td>\n",
       "      <td>0:09:22.8</td>\n",
       "    </tr>\n",
       "  </tbody>\n",
       "</table>\n",
       "</div>"
      ],
      "text/plain": [
       "   Unnamed: 0                                  uuid  move_number white_move  \\\n",
       "0           0  efe6de36-729d-11ed-a69d-78ac4409ff3c            1         d4   \n",
       "1           1  efe6de36-729d-11ed-a69d-78ac4409ff3c            2       dxe5   \n",
       "2           2  efe6de36-729d-11ed-a69d-78ac4409ff3c            3        Nf3   \n",
       "3           3  efe6de36-729d-11ed-a69d-78ac4409ff3c            4         c3   \n",
       "4           4  efe6de36-729d-11ed-a69d-78ac4409ff3c            5        Be3   \n",
       "\n",
       "  black_move white_time black_time  \n",
       "0         e5    0:10:00  0:09:57.4  \n",
       "1        Qh4  0:09:58.8  0:09:54.9  \n",
       "2       Qb4+  0:09:57.4  0:09:47.4  \n",
       "3        Qb6  0:09:52.9  0:09:31.2  \n",
       "4       Qxb2  0:09:45.6  0:09:22.8  "
      ]
     },
     "execution_count": 6,
     "metadata": {},
     "output_type": "execute_result"
    }
   ],
   "source": [
    "moves.head()"
   ]
  },
  {
   "cell_type": "code",
   "execution_count": null,
   "id": "8074eabb",
   "metadata": {},
   "outputs": [],
   "source": [
    "# Q1 - how many games does this player play between date A and date B\n",
    "\n",
    "# Q2 - What is the time of the week does this player play chess?\n",
    "\n",
    "# Q3 - How many moves does this player have per game?\n",
    "\n",
    "# Q4 - How much seconds does each move take for the player?\n",
    "\n",
    "# Q5 - What is the most common opening when this player played white?\n",
    "\n",
    "# Q6 - What is the most common opening when this player played black?\n",
    "\n",
    "# Q7 - How does the rating change along the period?\n",
    "\n",
    "# Q8 - How does the rating of its opponent along the period?\n",
    "\n",
    "# Q9 - The distribution of type of games this player has played?\n",
    "\n"
   ]
  },
  {
   "cell_type": "code",
   "execution_count": 7,
   "id": "30001225",
   "metadata": {},
   "outputs": [
    {
     "data": {
      "text/plain": [
       "array(['AGcuber19', 'TLPAWN', 'xiaoanwu', 'EmmaXLi', 'akfunchess66',\n",
       "       'Marsboom', 'Claraqiu', 'Ravenclawfairy', 'Zora_zhu',\n",
       "       'BurleyWalrus', 'taionemm', 'augustinewz', 'oscarzhang818',\n",
       "       'yaohengli', 'Wallacewang1214', 'SophiaZ2022', 'AliceCLi',\n",
       "       'yumitang', 'james2945', 'Oinkoinkw', 'Cathye1', 'lunathekitsune',\n",
       "       'ArthurRocket', 'vivianwwww20', 'ChloeWang16', 'Tyzalex',\n",
       "       'ZhichengW', 'Haochen1123', 'jaydenlan0118', 'ImRacoonie'],\n",
       "      dtype=object)"
      ]
     },
     "execution_count": 7,
     "metadata": {},
     "output_type": "execute_result"
    }
   ],
   "source": [
    "games['username'].unique()\n"
   ]
  },
  {
   "cell_type": "code",
   "execution_count": 115,
   "id": "d59895dd",
   "metadata": {},
   "outputs": [
    {
     "name": "stderr",
     "output_type": "stream",
     "text": [
      "/var/folders/gm/sqkz8yg12_d12sb2rtq76mzw0000gn/T/ipykernel_43500/681626544.py:21: SettingWithCopyWarning:\n",
      "\n",
      "\n",
      "A value is trying to be set on a copy of a slice from a DataFrame.\n",
      "Try using .loc[row_indexer,col_indexer] = value instead\n",
      "\n",
      "See the caveats in the documentation: https://pandas.pydata.org/pandas-docs/stable/user_guide/indexing.html#returning-a-view-versus-a-copy\n",
      "\n"
     ]
    },
    {
     "data": {
      "application/vnd.plotly.v1+json": {
       "config": {
        "plotlyServerURL": "https://plot.ly"
       },
       "data": [
        {
         "hovertemplate": "date=%{x}<br>uuid=%{y}<extra></extra>",
         "legendgroup": "",
         "marker": {
          "color": "#636efa",
          "symbol": "circle"
         },
         "mode": "markers",
         "name": "",
         "orientation": "v",
         "showlegend": false,
         "type": "scatter",
         "x": [
          "2022-12-03",
          "2022-12-04",
          "2022-12-05",
          "2022-12-06",
          "2022-12-07",
          "2022-12-10",
          "2022-12-17",
          "2022-12-18",
          "2022-12-19",
          "2022-12-20",
          "2022-12-21",
          "2022-12-28",
          "2022-12-29",
          "2022-12-31",
          "2023-01-01",
          "2023-01-02",
          "2023-01-07",
          "2023-01-14",
          "2023-01-15",
          "2023-01-18",
          "2023-01-28",
          "2023-01-29",
          "2023-01-30",
          "2023-01-31",
          "2023-02-01",
          "2023-02-02",
          "2023-02-03"
         ],
         "xaxis": "x",
         "y": [
          20,
          25,
          31,
          46,
          1,
          5,
          8,
          7,
          4,
          1,
          7,
          3,
          4,
          15,
          5,
          4,
          9,
          9,
          4,
          1,
          5,
          5,
          4,
          12,
          4,
          21,
          25
         ],
         "yaxis": "y"
        }
       ],
       "layout": {
        "legend": {
         "tracegroupgap": 0
        },
        "template": {
         "data": {
          "bar": [
           {
            "error_x": {
             "color": "#2a3f5f"
            },
            "error_y": {
             "color": "#2a3f5f"
            },
            "marker": {
             "line": {
              "color": "#E5ECF6",
              "width": 0.5
             },
             "pattern": {
              "fillmode": "overlay",
              "size": 10,
              "solidity": 0.2
             }
            },
            "type": "bar"
           }
          ],
          "barpolar": [
           {
            "marker": {
             "line": {
              "color": "#E5ECF6",
              "width": 0.5
             },
             "pattern": {
              "fillmode": "overlay",
              "size": 10,
              "solidity": 0.2
             }
            },
            "type": "barpolar"
           }
          ],
          "carpet": [
           {
            "aaxis": {
             "endlinecolor": "#2a3f5f",
             "gridcolor": "white",
             "linecolor": "white",
             "minorgridcolor": "white",
             "startlinecolor": "#2a3f5f"
            },
            "baxis": {
             "endlinecolor": "#2a3f5f",
             "gridcolor": "white",
             "linecolor": "white",
             "minorgridcolor": "white",
             "startlinecolor": "#2a3f5f"
            },
            "type": "carpet"
           }
          ],
          "choropleth": [
           {
            "colorbar": {
             "outlinewidth": 0,
             "ticks": ""
            },
            "type": "choropleth"
           }
          ],
          "contour": [
           {
            "colorbar": {
             "outlinewidth": 0,
             "ticks": ""
            },
            "colorscale": [
             [
              0,
              "#0d0887"
             ],
             [
              0.1111111111111111,
              "#46039f"
             ],
             [
              0.2222222222222222,
              "#7201a8"
             ],
             [
              0.3333333333333333,
              "#9c179e"
             ],
             [
              0.4444444444444444,
              "#bd3786"
             ],
             [
              0.5555555555555556,
              "#d8576b"
             ],
             [
              0.6666666666666666,
              "#ed7953"
             ],
             [
              0.7777777777777778,
              "#fb9f3a"
             ],
             [
              0.8888888888888888,
              "#fdca26"
             ],
             [
              1,
              "#f0f921"
             ]
            ],
            "type": "contour"
           }
          ],
          "contourcarpet": [
           {
            "colorbar": {
             "outlinewidth": 0,
             "ticks": ""
            },
            "type": "contourcarpet"
           }
          ],
          "heatmap": [
           {
            "colorbar": {
             "outlinewidth": 0,
             "ticks": ""
            },
            "colorscale": [
             [
              0,
              "#0d0887"
             ],
             [
              0.1111111111111111,
              "#46039f"
             ],
             [
              0.2222222222222222,
              "#7201a8"
             ],
             [
              0.3333333333333333,
              "#9c179e"
             ],
             [
              0.4444444444444444,
              "#bd3786"
             ],
             [
              0.5555555555555556,
              "#d8576b"
             ],
             [
              0.6666666666666666,
              "#ed7953"
             ],
             [
              0.7777777777777778,
              "#fb9f3a"
             ],
             [
              0.8888888888888888,
              "#fdca26"
             ],
             [
              1,
              "#f0f921"
             ]
            ],
            "type": "heatmap"
           }
          ],
          "heatmapgl": [
           {
            "colorbar": {
             "outlinewidth": 0,
             "ticks": ""
            },
            "colorscale": [
             [
              0,
              "#0d0887"
             ],
             [
              0.1111111111111111,
              "#46039f"
             ],
             [
              0.2222222222222222,
              "#7201a8"
             ],
             [
              0.3333333333333333,
              "#9c179e"
             ],
             [
              0.4444444444444444,
              "#bd3786"
             ],
             [
              0.5555555555555556,
              "#d8576b"
             ],
             [
              0.6666666666666666,
              "#ed7953"
             ],
             [
              0.7777777777777778,
              "#fb9f3a"
             ],
             [
              0.8888888888888888,
              "#fdca26"
             ],
             [
              1,
              "#f0f921"
             ]
            ],
            "type": "heatmapgl"
           }
          ],
          "histogram": [
           {
            "marker": {
             "pattern": {
              "fillmode": "overlay",
              "size": 10,
              "solidity": 0.2
             }
            },
            "type": "histogram"
           }
          ],
          "histogram2d": [
           {
            "colorbar": {
             "outlinewidth": 0,
             "ticks": ""
            },
            "colorscale": [
             [
              0,
              "#0d0887"
             ],
             [
              0.1111111111111111,
              "#46039f"
             ],
             [
              0.2222222222222222,
              "#7201a8"
             ],
             [
              0.3333333333333333,
              "#9c179e"
             ],
             [
              0.4444444444444444,
              "#bd3786"
             ],
             [
              0.5555555555555556,
              "#d8576b"
             ],
             [
              0.6666666666666666,
              "#ed7953"
             ],
             [
              0.7777777777777778,
              "#fb9f3a"
             ],
             [
              0.8888888888888888,
              "#fdca26"
             ],
             [
              1,
              "#f0f921"
             ]
            ],
            "type": "histogram2d"
           }
          ],
          "histogram2dcontour": [
           {
            "colorbar": {
             "outlinewidth": 0,
             "ticks": ""
            },
            "colorscale": [
             [
              0,
              "#0d0887"
             ],
             [
              0.1111111111111111,
              "#46039f"
             ],
             [
              0.2222222222222222,
              "#7201a8"
             ],
             [
              0.3333333333333333,
              "#9c179e"
             ],
             [
              0.4444444444444444,
              "#bd3786"
             ],
             [
              0.5555555555555556,
              "#d8576b"
             ],
             [
              0.6666666666666666,
              "#ed7953"
             ],
             [
              0.7777777777777778,
              "#fb9f3a"
             ],
             [
              0.8888888888888888,
              "#fdca26"
             ],
             [
              1,
              "#f0f921"
             ]
            ],
            "type": "histogram2dcontour"
           }
          ],
          "mesh3d": [
           {
            "colorbar": {
             "outlinewidth": 0,
             "ticks": ""
            },
            "type": "mesh3d"
           }
          ],
          "parcoords": [
           {
            "line": {
             "colorbar": {
              "outlinewidth": 0,
              "ticks": ""
             }
            },
            "type": "parcoords"
           }
          ],
          "pie": [
           {
            "automargin": true,
            "type": "pie"
           }
          ],
          "scatter": [
           {
            "marker": {
             "colorbar": {
              "outlinewidth": 0,
              "ticks": ""
             }
            },
            "type": "scatter"
           }
          ],
          "scatter3d": [
           {
            "line": {
             "colorbar": {
              "outlinewidth": 0,
              "ticks": ""
             }
            },
            "marker": {
             "colorbar": {
              "outlinewidth": 0,
              "ticks": ""
             }
            },
            "type": "scatter3d"
           }
          ],
          "scattercarpet": [
           {
            "marker": {
             "colorbar": {
              "outlinewidth": 0,
              "ticks": ""
             }
            },
            "type": "scattercarpet"
           }
          ],
          "scattergeo": [
           {
            "marker": {
             "colorbar": {
              "outlinewidth": 0,
              "ticks": ""
             }
            },
            "type": "scattergeo"
           }
          ],
          "scattergl": [
           {
            "marker": {
             "colorbar": {
              "outlinewidth": 0,
              "ticks": ""
             }
            },
            "type": "scattergl"
           }
          ],
          "scattermapbox": [
           {
            "marker": {
             "colorbar": {
              "outlinewidth": 0,
              "ticks": ""
             }
            },
            "type": "scattermapbox"
           }
          ],
          "scatterpolar": [
           {
            "marker": {
             "colorbar": {
              "outlinewidth": 0,
              "ticks": ""
             }
            },
            "type": "scatterpolar"
           }
          ],
          "scatterpolargl": [
           {
            "marker": {
             "colorbar": {
              "outlinewidth": 0,
              "ticks": ""
             }
            },
            "type": "scatterpolargl"
           }
          ],
          "scatterternary": [
           {
            "marker": {
             "colorbar": {
              "outlinewidth": 0,
              "ticks": ""
             }
            },
            "type": "scatterternary"
           }
          ],
          "surface": [
           {
            "colorbar": {
             "outlinewidth": 0,
             "ticks": ""
            },
            "colorscale": [
             [
              0,
              "#0d0887"
             ],
             [
              0.1111111111111111,
              "#46039f"
             ],
             [
              0.2222222222222222,
              "#7201a8"
             ],
             [
              0.3333333333333333,
              "#9c179e"
             ],
             [
              0.4444444444444444,
              "#bd3786"
             ],
             [
              0.5555555555555556,
              "#d8576b"
             ],
             [
              0.6666666666666666,
              "#ed7953"
             ],
             [
              0.7777777777777778,
              "#fb9f3a"
             ],
             [
              0.8888888888888888,
              "#fdca26"
             ],
             [
              1,
              "#f0f921"
             ]
            ],
            "type": "surface"
           }
          ],
          "table": [
           {
            "cells": {
             "fill": {
              "color": "#EBF0F8"
             },
             "line": {
              "color": "white"
             }
            },
            "header": {
             "fill": {
              "color": "#C8D4E3"
             },
             "line": {
              "color": "white"
             }
            },
            "type": "table"
           }
          ]
         },
         "layout": {
          "annotationdefaults": {
           "arrowcolor": "#2a3f5f",
           "arrowhead": 0,
           "arrowwidth": 1
          },
          "autotypenumbers": "strict",
          "coloraxis": {
           "colorbar": {
            "outlinewidth": 0,
            "ticks": ""
           }
          },
          "colorscale": {
           "diverging": [
            [
             0,
             "#8e0152"
            ],
            [
             0.1,
             "#c51b7d"
            ],
            [
             0.2,
             "#de77ae"
            ],
            [
             0.3,
             "#f1b6da"
            ],
            [
             0.4,
             "#fde0ef"
            ],
            [
             0.5,
             "#f7f7f7"
            ],
            [
             0.6,
             "#e6f5d0"
            ],
            [
             0.7,
             "#b8e186"
            ],
            [
             0.8,
             "#7fbc41"
            ],
            [
             0.9,
             "#4d9221"
            ],
            [
             1,
             "#276419"
            ]
           ],
           "sequential": [
            [
             0,
             "#0d0887"
            ],
            [
             0.1111111111111111,
             "#46039f"
            ],
            [
             0.2222222222222222,
             "#7201a8"
            ],
            [
             0.3333333333333333,
             "#9c179e"
            ],
            [
             0.4444444444444444,
             "#bd3786"
            ],
            [
             0.5555555555555556,
             "#d8576b"
            ],
            [
             0.6666666666666666,
             "#ed7953"
            ],
            [
             0.7777777777777778,
             "#fb9f3a"
            ],
            [
             0.8888888888888888,
             "#fdca26"
            ],
            [
             1,
             "#f0f921"
            ]
           ],
           "sequentialminus": [
            [
             0,
             "#0d0887"
            ],
            [
             0.1111111111111111,
             "#46039f"
            ],
            [
             0.2222222222222222,
             "#7201a8"
            ],
            [
             0.3333333333333333,
             "#9c179e"
            ],
            [
             0.4444444444444444,
             "#bd3786"
            ],
            [
             0.5555555555555556,
             "#d8576b"
            ],
            [
             0.6666666666666666,
             "#ed7953"
            ],
            [
             0.7777777777777778,
             "#fb9f3a"
            ],
            [
             0.8888888888888888,
             "#fdca26"
            ],
            [
             1,
             "#f0f921"
            ]
           ]
          },
          "colorway": [
           "#636efa",
           "#EF553B",
           "#00cc96",
           "#ab63fa",
           "#FFA15A",
           "#19d3f3",
           "#FF6692",
           "#B6E880",
           "#FF97FF",
           "#FECB52"
          ],
          "font": {
           "color": "#2a3f5f"
          },
          "geo": {
           "bgcolor": "white",
           "lakecolor": "white",
           "landcolor": "#E5ECF6",
           "showlakes": true,
           "showland": true,
           "subunitcolor": "white"
          },
          "hoverlabel": {
           "align": "left"
          },
          "hovermode": "closest",
          "mapbox": {
           "style": "light"
          },
          "paper_bgcolor": "white",
          "plot_bgcolor": "#E5ECF6",
          "polar": {
           "angularaxis": {
            "gridcolor": "white",
            "linecolor": "white",
            "ticks": ""
           },
           "bgcolor": "#E5ECF6",
           "radialaxis": {
            "gridcolor": "white",
            "linecolor": "white",
            "ticks": ""
           }
          },
          "scene": {
           "xaxis": {
            "backgroundcolor": "#E5ECF6",
            "gridcolor": "white",
            "gridwidth": 2,
            "linecolor": "white",
            "showbackground": true,
            "ticks": "",
            "zerolinecolor": "white"
           },
           "yaxis": {
            "backgroundcolor": "#E5ECF6",
            "gridcolor": "white",
            "gridwidth": 2,
            "linecolor": "white",
            "showbackground": true,
            "ticks": "",
            "zerolinecolor": "white"
           },
           "zaxis": {
            "backgroundcolor": "#E5ECF6",
            "gridcolor": "white",
            "gridwidth": 2,
            "linecolor": "white",
            "showbackground": true,
            "ticks": "",
            "zerolinecolor": "white"
           }
          },
          "shapedefaults": {
           "line": {
            "color": "#2a3f5f"
           }
          },
          "ternary": {
           "aaxis": {
            "gridcolor": "white",
            "linecolor": "white",
            "ticks": ""
           },
           "baxis": {
            "gridcolor": "white",
            "linecolor": "white",
            "ticks": ""
           },
           "bgcolor": "#E5ECF6",
           "caxis": {
            "gridcolor": "white",
            "linecolor": "white",
            "ticks": ""
           }
          },
          "title": {
           "x": 0.05
          },
          "xaxis": {
           "automargin": true,
           "gridcolor": "white",
           "linecolor": "white",
           "ticks": "",
           "title": {
            "standoff": 15
           },
           "zerolinecolor": "white",
           "zerolinewidth": 2
          },
          "yaxis": {
           "automargin": true,
           "gridcolor": "white",
           "linecolor": "white",
           "ticks": "",
           "title": {
            "standoff": 15
           },
           "zerolinecolor": "white",
           "zerolinewidth": 2
          }
         }
        },
        "title": {
         "text": "Number of games played by AGcuber19"
        },
        "xaxis": {
         "anchor": "y",
         "domain": [
          0,
          1
         ],
         "title": {
          "text": "date"
         }
        },
        "yaxis": {
         "anchor": "x",
         "domain": [
          0,
          1
         ],
         "title": {
          "text": "uuid"
         }
        }
       }
      },
      "text/html": [
       "<div>                            <div id=\"17845af0-8750-4930-a0dc-18ead24b7001\" class=\"plotly-graph-div\" style=\"height:525px; width:100%;\"></div>            <script type=\"text/javascript\">                require([\"plotly\"], function(Plotly) {                    window.PLOTLYENV=window.PLOTLYENV || {};                                    if (document.getElementById(\"17845af0-8750-4930-a0dc-18ead24b7001\")) {                    Plotly.newPlot(                        \"17845af0-8750-4930-a0dc-18ead24b7001\",                        [{\"hovertemplate\":\"date=%{x}<br>uuid=%{y}<extra></extra>\",\"legendgroup\":\"\",\"marker\":{\"color\":\"#636efa\",\"symbol\":\"circle\"},\"mode\":\"markers\",\"name\":\"\",\"orientation\":\"v\",\"showlegend\":false,\"x\":[\"2022-12-03\",\"2022-12-04\",\"2022-12-05\",\"2022-12-06\",\"2022-12-07\",\"2022-12-10\",\"2022-12-17\",\"2022-12-18\",\"2022-12-19\",\"2022-12-20\",\"2022-12-21\",\"2022-12-28\",\"2022-12-29\",\"2022-12-31\",\"2023-01-01\",\"2023-01-02\",\"2023-01-07\",\"2023-01-14\",\"2023-01-15\",\"2023-01-18\",\"2023-01-28\",\"2023-01-29\",\"2023-01-30\",\"2023-01-31\",\"2023-02-01\",\"2023-02-02\",\"2023-02-03\"],\"xaxis\":\"x\",\"y\":[20,25,31,46,1,5,8,7,4,1,7,3,4,15,5,4,9,9,4,1,5,5,4,12,4,21,25],\"yaxis\":\"y\",\"type\":\"scatter\"}],                        {\"template\":{\"data\":{\"bar\":[{\"error_x\":{\"color\":\"#2a3f5f\"},\"error_y\":{\"color\":\"#2a3f5f\"},\"marker\":{\"line\":{\"color\":\"#E5ECF6\",\"width\":0.5},\"pattern\":{\"fillmode\":\"overlay\",\"size\":10,\"solidity\":0.2}},\"type\":\"bar\"}],\"barpolar\":[{\"marker\":{\"line\":{\"color\":\"#E5ECF6\",\"width\":0.5},\"pattern\":{\"fillmode\":\"overlay\",\"size\":10,\"solidity\":0.2}},\"type\":\"barpolar\"}],\"carpet\":[{\"aaxis\":{\"endlinecolor\":\"#2a3f5f\",\"gridcolor\":\"white\",\"linecolor\":\"white\",\"minorgridcolor\":\"white\",\"startlinecolor\":\"#2a3f5f\"},\"baxis\":{\"endlinecolor\":\"#2a3f5f\",\"gridcolor\":\"white\",\"linecolor\":\"white\",\"minorgridcolor\":\"white\",\"startlinecolor\":\"#2a3f5f\"},\"type\":\"carpet\"}],\"choropleth\":[{\"colorbar\":{\"outlinewidth\":0,\"ticks\":\"\"},\"type\":\"choropleth\"}],\"contour\":[{\"colorbar\":{\"outlinewidth\":0,\"ticks\":\"\"},\"colorscale\":[[0.0,\"#0d0887\"],[0.1111111111111111,\"#46039f\"],[0.2222222222222222,\"#7201a8\"],[0.3333333333333333,\"#9c179e\"],[0.4444444444444444,\"#bd3786\"],[0.5555555555555556,\"#d8576b\"],[0.6666666666666666,\"#ed7953\"],[0.7777777777777778,\"#fb9f3a\"],[0.8888888888888888,\"#fdca26\"],[1.0,\"#f0f921\"]],\"type\":\"contour\"}],\"contourcarpet\":[{\"colorbar\":{\"outlinewidth\":0,\"ticks\":\"\"},\"type\":\"contourcarpet\"}],\"heatmap\":[{\"colorbar\":{\"outlinewidth\":0,\"ticks\":\"\"},\"colorscale\":[[0.0,\"#0d0887\"],[0.1111111111111111,\"#46039f\"],[0.2222222222222222,\"#7201a8\"],[0.3333333333333333,\"#9c179e\"],[0.4444444444444444,\"#bd3786\"],[0.5555555555555556,\"#d8576b\"],[0.6666666666666666,\"#ed7953\"],[0.7777777777777778,\"#fb9f3a\"],[0.8888888888888888,\"#fdca26\"],[1.0,\"#f0f921\"]],\"type\":\"heatmap\"}],\"heatmapgl\":[{\"colorbar\":{\"outlinewidth\":0,\"ticks\":\"\"},\"colorscale\":[[0.0,\"#0d0887\"],[0.1111111111111111,\"#46039f\"],[0.2222222222222222,\"#7201a8\"],[0.3333333333333333,\"#9c179e\"],[0.4444444444444444,\"#bd3786\"],[0.5555555555555556,\"#d8576b\"],[0.6666666666666666,\"#ed7953\"],[0.7777777777777778,\"#fb9f3a\"],[0.8888888888888888,\"#fdca26\"],[1.0,\"#f0f921\"]],\"type\":\"heatmapgl\"}],\"histogram\":[{\"marker\":{\"pattern\":{\"fillmode\":\"overlay\",\"size\":10,\"solidity\":0.2}},\"type\":\"histogram\"}],\"histogram2d\":[{\"colorbar\":{\"outlinewidth\":0,\"ticks\":\"\"},\"colorscale\":[[0.0,\"#0d0887\"],[0.1111111111111111,\"#46039f\"],[0.2222222222222222,\"#7201a8\"],[0.3333333333333333,\"#9c179e\"],[0.4444444444444444,\"#bd3786\"],[0.5555555555555556,\"#d8576b\"],[0.6666666666666666,\"#ed7953\"],[0.7777777777777778,\"#fb9f3a\"],[0.8888888888888888,\"#fdca26\"],[1.0,\"#f0f921\"]],\"type\":\"histogram2d\"}],\"histogram2dcontour\":[{\"colorbar\":{\"outlinewidth\":0,\"ticks\":\"\"},\"colorscale\":[[0.0,\"#0d0887\"],[0.1111111111111111,\"#46039f\"],[0.2222222222222222,\"#7201a8\"],[0.3333333333333333,\"#9c179e\"],[0.4444444444444444,\"#bd3786\"],[0.5555555555555556,\"#d8576b\"],[0.6666666666666666,\"#ed7953\"],[0.7777777777777778,\"#fb9f3a\"],[0.8888888888888888,\"#fdca26\"],[1.0,\"#f0f921\"]],\"type\":\"histogram2dcontour\"}],\"mesh3d\":[{\"colorbar\":{\"outlinewidth\":0,\"ticks\":\"\"},\"type\":\"mesh3d\"}],\"parcoords\":[{\"line\":{\"colorbar\":{\"outlinewidth\":0,\"ticks\":\"\"}},\"type\":\"parcoords\"}],\"pie\":[{\"automargin\":true,\"type\":\"pie\"}],\"scatter\":[{\"marker\":{\"colorbar\":{\"outlinewidth\":0,\"ticks\":\"\"}},\"type\":\"scatter\"}],\"scatter3d\":[{\"line\":{\"colorbar\":{\"outlinewidth\":0,\"ticks\":\"\"}},\"marker\":{\"colorbar\":{\"outlinewidth\":0,\"ticks\":\"\"}},\"type\":\"scatter3d\"}],\"scattercarpet\":[{\"marker\":{\"colorbar\":{\"outlinewidth\":0,\"ticks\":\"\"}},\"type\":\"scattercarpet\"}],\"scattergeo\":[{\"marker\":{\"colorbar\":{\"outlinewidth\":0,\"ticks\":\"\"}},\"type\":\"scattergeo\"}],\"scattergl\":[{\"marker\":{\"colorbar\":{\"outlinewidth\":0,\"ticks\":\"\"}},\"type\":\"scattergl\"}],\"scattermapbox\":[{\"marker\":{\"colorbar\":{\"outlinewidth\":0,\"ticks\":\"\"}},\"type\":\"scattermapbox\"}],\"scatterpolar\":[{\"marker\":{\"colorbar\":{\"outlinewidth\":0,\"ticks\":\"\"}},\"type\":\"scatterpolar\"}],\"scatterpolargl\":[{\"marker\":{\"colorbar\":{\"outlinewidth\":0,\"ticks\":\"\"}},\"type\":\"scatterpolargl\"}],\"scatterternary\":[{\"marker\":{\"colorbar\":{\"outlinewidth\":0,\"ticks\":\"\"}},\"type\":\"scatterternary\"}],\"surface\":[{\"colorbar\":{\"outlinewidth\":0,\"ticks\":\"\"},\"colorscale\":[[0.0,\"#0d0887\"],[0.1111111111111111,\"#46039f\"],[0.2222222222222222,\"#7201a8\"],[0.3333333333333333,\"#9c179e\"],[0.4444444444444444,\"#bd3786\"],[0.5555555555555556,\"#d8576b\"],[0.6666666666666666,\"#ed7953\"],[0.7777777777777778,\"#fb9f3a\"],[0.8888888888888888,\"#fdca26\"],[1.0,\"#f0f921\"]],\"type\":\"surface\"}],\"table\":[{\"cells\":{\"fill\":{\"color\":\"#EBF0F8\"},\"line\":{\"color\":\"white\"}},\"header\":{\"fill\":{\"color\":\"#C8D4E3\"},\"line\":{\"color\":\"white\"}},\"type\":\"table\"}]},\"layout\":{\"annotationdefaults\":{\"arrowcolor\":\"#2a3f5f\",\"arrowhead\":0,\"arrowwidth\":1},\"autotypenumbers\":\"strict\",\"coloraxis\":{\"colorbar\":{\"outlinewidth\":0,\"ticks\":\"\"}},\"colorscale\":{\"diverging\":[[0,\"#8e0152\"],[0.1,\"#c51b7d\"],[0.2,\"#de77ae\"],[0.3,\"#f1b6da\"],[0.4,\"#fde0ef\"],[0.5,\"#f7f7f7\"],[0.6,\"#e6f5d0\"],[0.7,\"#b8e186\"],[0.8,\"#7fbc41\"],[0.9,\"#4d9221\"],[1,\"#276419\"]],\"sequential\":[[0.0,\"#0d0887\"],[0.1111111111111111,\"#46039f\"],[0.2222222222222222,\"#7201a8\"],[0.3333333333333333,\"#9c179e\"],[0.4444444444444444,\"#bd3786\"],[0.5555555555555556,\"#d8576b\"],[0.6666666666666666,\"#ed7953\"],[0.7777777777777778,\"#fb9f3a\"],[0.8888888888888888,\"#fdca26\"],[1.0,\"#f0f921\"]],\"sequentialminus\":[[0.0,\"#0d0887\"],[0.1111111111111111,\"#46039f\"],[0.2222222222222222,\"#7201a8\"],[0.3333333333333333,\"#9c179e\"],[0.4444444444444444,\"#bd3786\"],[0.5555555555555556,\"#d8576b\"],[0.6666666666666666,\"#ed7953\"],[0.7777777777777778,\"#fb9f3a\"],[0.8888888888888888,\"#fdca26\"],[1.0,\"#f0f921\"]]},\"colorway\":[\"#636efa\",\"#EF553B\",\"#00cc96\",\"#ab63fa\",\"#FFA15A\",\"#19d3f3\",\"#FF6692\",\"#B6E880\",\"#FF97FF\",\"#FECB52\"],\"font\":{\"color\":\"#2a3f5f\"},\"geo\":{\"bgcolor\":\"white\",\"lakecolor\":\"white\",\"landcolor\":\"#E5ECF6\",\"showlakes\":true,\"showland\":true,\"subunitcolor\":\"white\"},\"hoverlabel\":{\"align\":\"left\"},\"hovermode\":\"closest\",\"mapbox\":{\"style\":\"light\"},\"paper_bgcolor\":\"white\",\"plot_bgcolor\":\"#E5ECF6\",\"polar\":{\"angularaxis\":{\"gridcolor\":\"white\",\"linecolor\":\"white\",\"ticks\":\"\"},\"bgcolor\":\"#E5ECF6\",\"radialaxis\":{\"gridcolor\":\"white\",\"linecolor\":\"white\",\"ticks\":\"\"}},\"scene\":{\"xaxis\":{\"backgroundcolor\":\"#E5ECF6\",\"gridcolor\":\"white\",\"gridwidth\":2,\"linecolor\":\"white\",\"showbackground\":true,\"ticks\":\"\",\"zerolinecolor\":\"white\"},\"yaxis\":{\"backgroundcolor\":\"#E5ECF6\",\"gridcolor\":\"white\",\"gridwidth\":2,\"linecolor\":\"white\",\"showbackground\":true,\"ticks\":\"\",\"zerolinecolor\":\"white\"},\"zaxis\":{\"backgroundcolor\":\"#E5ECF6\",\"gridcolor\":\"white\",\"gridwidth\":2,\"linecolor\":\"white\",\"showbackground\":true,\"ticks\":\"\",\"zerolinecolor\":\"white\"}},\"shapedefaults\":{\"line\":{\"color\":\"#2a3f5f\"}},\"ternary\":{\"aaxis\":{\"gridcolor\":\"white\",\"linecolor\":\"white\",\"ticks\":\"\"},\"baxis\":{\"gridcolor\":\"white\",\"linecolor\":\"white\",\"ticks\":\"\"},\"bgcolor\":\"#E5ECF6\",\"caxis\":{\"gridcolor\":\"white\",\"linecolor\":\"white\",\"ticks\":\"\"}},\"title\":{\"x\":0.05},\"xaxis\":{\"automargin\":true,\"gridcolor\":\"white\",\"linecolor\":\"white\",\"ticks\":\"\",\"title\":{\"standoff\":15},\"zerolinecolor\":\"white\",\"zerolinewidth\":2},\"yaxis\":{\"automargin\":true,\"gridcolor\":\"white\",\"linecolor\":\"white\",\"ticks\":\"\",\"title\":{\"standoff\":15},\"zerolinecolor\":\"white\",\"zerolinewidth\":2}}},\"xaxis\":{\"anchor\":\"y\",\"domain\":[0.0,1.0],\"title\":{\"text\":\"date\"}},\"yaxis\":{\"anchor\":\"x\",\"domain\":[0.0,1.0],\"title\":{\"text\":\"uuid\"}},\"legend\":{\"tracegroupgap\":0},\"title\":{\"text\":\"Number of games played by AGcuber19\"}},                        {\"responsive\": true}                    ).then(function(){\n",
       "                            \n",
       "var gd = document.getElementById('17845af0-8750-4930-a0dc-18ead24b7001');\n",
       "var x = new MutationObserver(function (mutations, observer) {{\n",
       "        var display = window.getComputedStyle(gd).display;\n",
       "        if (!display || display === 'none') {{\n",
       "            console.log([gd, 'removed!']);\n",
       "            Plotly.purge(gd);\n",
       "            observer.disconnect();\n",
       "        }}\n",
       "}});\n",
       "\n",
       "// Listen for the removal of the full notebook cells\n",
       "var notebookContainer = gd.closest('#notebook-container');\n",
       "if (notebookContainer) {{\n",
       "    x.observe(notebookContainer, {childList: true});\n",
       "}}\n",
       "\n",
       "// Listen for the clearing of the current output cell\n",
       "var outputEl = gd.closest('.output');\n",
       "if (outputEl) {{\n",
       "    x.observe(outputEl, {childList: true});\n",
       "}}\n",
       "\n",
       "                        })                };                });            </script>        </div>"
      ]
     },
     "metadata": {},
     "output_type": "display_data"
    }
   ],
   "source": [
    "# Q1 - how many games does this player play between date A and date B\n",
    "# timestamp UTC?\n",
    "def number_games(username,period):\n",
    "    \"\"\"\n",
    "    return the number of games that the username has played during the period of time\n",
    "    \n",
    "    input: \n",
    "    \n",
    "    username - username that belong to the target player\n",
    "    period - a list contains two items, start date and the end date\n",
    "    \n",
    "    output:\n",
    "    number of games this username has played during the period\n",
    "    \"\"\"\n",
    "    start_date = datetime.date(datetime.strptime(period[0], '%m/%d/%y') )\n",
    "    end_date = datetime.date(datetime.strptime(period[1], '%m/%d/%y') )\n",
    "    \n",
    "    \n",
    "    usergame = games.loc[games['username'] == username]\n",
    "    \n",
    "    usergame['date'] = pd.to_datetime((usergame['timestamp']), errors='coerce').dt.date\n",
    "    \n",
    "    usergame = usergame.loc[(usergame.date >= start_date) & (usergame.date <= end_date) ]\n",
    "    \n",
    "    usergame = usergame.groupby(['date']).nunique().reset_index()[['date',\n",
    "                                                                  'uuid']]\n",
    "\n",
    "    total_games = usergame['uuid'].sum()\n",
    "    \n",
    "    fig = px.scatter(usergame, x='date', y='uuid', title=\"Number of games played by {}\".format(username))\n",
    "    fig.show()\n",
    "    \n",
    "\n",
    "number_games('AGcuber19',['12/01/22','02/28/23'])\n",
    "\n",
    "\n"
   ]
  },
  {
   "cell_type": "code",
   "execution_count": 40,
   "id": "aba59ae0",
   "metadata": {},
   "outputs": [
    {
     "data": {
      "text/html": [
       "<div>\n",
       "<style scoped>\n",
       "    .dataframe tbody tr th:only-of-type {\n",
       "        vertical-align: middle;\n",
       "    }\n",
       "\n",
       "    .dataframe tbody tr th {\n",
       "        vertical-align: top;\n",
       "    }\n",
       "\n",
       "    .dataframe thead th {\n",
       "        text-align: right;\n",
       "    }\n",
       "</style>\n",
       "<table border=\"1\" class=\"dataframe\">\n",
       "  <thead>\n",
       "    <tr style=\"text-align: right;\">\n",
       "      <th></th>\n",
       "      <th>username</th>\n",
       "      <th>timestamp</th>\n",
       "      <th>uuid</th>\n",
       "      <th>dow</th>\n",
       "      <th>hour</th>\n",
       "    </tr>\n",
       "  </thead>\n",
       "  <tbody>\n",
       "    <tr>\n",
       "      <th>0</th>\n",
       "      <td>AGcuber19</td>\n",
       "      <td>2022-12-03 00:09:33</td>\n",
       "      <td>efe6de36-729d-11ed-a69d-78ac4409ff3c</td>\n",
       "      <td>Saturday</td>\n",
       "      <td>0</td>\n",
       "    </tr>\n",
       "    <tr>\n",
       "      <th>1</th>\n",
       "      <td>AGcuber19</td>\n",
       "      <td>2022-12-03 00:26:02</td>\n",
       "      <td>c44f652e-729e-11ed-a69d-78ac4409ff3c</td>\n",
       "      <td>Saturday</td>\n",
       "      <td>0</td>\n",
       "    </tr>\n",
       "    <tr>\n",
       "      <th>2</th>\n",
       "      <td>AGcuber19</td>\n",
       "      <td>2022-12-03 00:27:26</td>\n",
       "      <td>3fc79932-72a1-11ed-a69d-78ac4409ff3c</td>\n",
       "      <td>Saturday</td>\n",
       "      <td>0</td>\n",
       "    </tr>\n",
       "    <tr>\n",
       "      <th>3</th>\n",
       "      <td>AGcuber19</td>\n",
       "      <td>2022-12-03 00:39:02</td>\n",
       "      <td>46e3ab94-72a1-11ed-a69d-78ac4409ff3c</td>\n",
       "      <td>Saturday</td>\n",
       "      <td>0</td>\n",
       "    </tr>\n",
       "    <tr>\n",
       "      <th>4</th>\n",
       "      <td>AGcuber19</td>\n",
       "      <td>2022-12-03 00:40:45</td>\n",
       "      <td>e39207bd-72a2-11ed-a69d-78ac4409ff3c</td>\n",
       "      <td>Saturday</td>\n",
       "      <td>0</td>\n",
       "    </tr>\n",
       "    <tr>\n",
       "      <th>...</th>\n",
       "      <td>...</td>\n",
       "      <td>...</td>\n",
       "      <td>...</td>\n",
       "      <td>...</td>\n",
       "      <td>...</td>\n",
       "    </tr>\n",
       "    <tr>\n",
       "      <th>190</th>\n",
       "      <td>AGcuber19</td>\n",
       "      <td>2023-01-07 16:07:07</td>\n",
       "      <td>dd00ef71-8ea4-11ed-b9f6-78ac4409ff3c</td>\n",
       "      <td>Saturday</td>\n",
       "      <td>16</td>\n",
       "    </tr>\n",
       "    <tr>\n",
       "      <th>191</th>\n",
       "      <td>AGcuber19</td>\n",
       "      <td>2023-01-07 20:49:26</td>\n",
       "      <td>5548b65e-8eca-11ed-b9f6-78ac4409ff3c</td>\n",
       "      <td>Saturday</td>\n",
       "      <td>20</td>\n",
       "    </tr>\n",
       "    <tr>\n",
       "      <th>192</th>\n",
       "      <td>AGcuber19</td>\n",
       "      <td>2023-01-07 20:54:24</td>\n",
       "      <td>27c2534e-8ecd-11ed-b9f6-78ac4409ff3c</td>\n",
       "      <td>Saturday</td>\n",
       "      <td>20</td>\n",
       "    </tr>\n",
       "    <tr>\n",
       "      <th>193</th>\n",
       "      <td>AGcuber19</td>\n",
       "      <td>2023-01-07 21:35:53</td>\n",
       "      <td>acd56b17-8ed1-11ed-b9f6-78ac4409ff3c</td>\n",
       "      <td>Saturday</td>\n",
       "      <td>21</td>\n",
       "    </tr>\n",
       "    <tr>\n",
       "      <th>194</th>\n",
       "      <td>AGcuber19</td>\n",
       "      <td>2023-01-07 21:49:08</td>\n",
       "      <td>6d798ecc-8ed3-11ed-b9f6-78ac4409ff3c</td>\n",
       "      <td>Saturday</td>\n",
       "      <td>21</td>\n",
       "    </tr>\n",
       "  </tbody>\n",
       "</table>\n",
       "<p>195 rows × 5 columns</p>\n",
       "</div>"
      ],
      "text/plain": [
       "      username            timestamp                                  uuid  \\\n",
       "0    AGcuber19  2022-12-03 00:09:33  efe6de36-729d-11ed-a69d-78ac4409ff3c   \n",
       "1    AGcuber19  2022-12-03 00:26:02  c44f652e-729e-11ed-a69d-78ac4409ff3c   \n",
       "2    AGcuber19  2022-12-03 00:27:26  3fc79932-72a1-11ed-a69d-78ac4409ff3c   \n",
       "3    AGcuber19  2022-12-03 00:39:02  46e3ab94-72a1-11ed-a69d-78ac4409ff3c   \n",
       "4    AGcuber19  2022-12-03 00:40:45  e39207bd-72a2-11ed-a69d-78ac4409ff3c   \n",
       "..         ...                  ...                                   ...   \n",
       "190  AGcuber19  2023-01-07 16:07:07  dd00ef71-8ea4-11ed-b9f6-78ac4409ff3c   \n",
       "191  AGcuber19  2023-01-07 20:49:26  5548b65e-8eca-11ed-b9f6-78ac4409ff3c   \n",
       "192  AGcuber19  2023-01-07 20:54:24  27c2534e-8ecd-11ed-b9f6-78ac4409ff3c   \n",
       "193  AGcuber19  2023-01-07 21:35:53  acd56b17-8ed1-11ed-b9f6-78ac4409ff3c   \n",
       "194  AGcuber19  2023-01-07 21:49:08  6d798ecc-8ed3-11ed-b9f6-78ac4409ff3c   \n",
       "\n",
       "          dow  hour  \n",
       "0    Saturday     0  \n",
       "1    Saturday     0  \n",
       "2    Saturday     0  \n",
       "3    Saturday     0  \n",
       "4    Saturday     0  \n",
       "..        ...   ...  \n",
       "190  Saturday    16  \n",
       "191  Saturday    20  \n",
       "192  Saturday    20  \n",
       "193  Saturday    21  \n",
       "194  Saturday    21  \n",
       "\n",
       "[195 rows x 5 columns]"
      ]
     },
     "execution_count": 40,
     "metadata": {},
     "output_type": "execute_result"
    }
   ],
   "source": [
    "# Q2 - What is the time of the week does this player play chess?\n",
    "\n",
    "def play_time(username,period):\n",
    "    \"\"\"\n",
    "    return a dataframe that shows game uuid, the date, hour, the username was playing during the period of time\n",
    "    \n",
    "    input: \n",
    "    \n",
    "    username - username that belong to the target player\n",
    "    period - a list contains two items, start date and the end date\n",
    "    \n",
    "    output:\n",
    "    return a dataframe that shows how many games the date, hour, the username has played during the period of time\n",
    "    \"\"\"\n",
    "    \n",
    "    usergame = games.loc[games['username'] == username]\n",
    "    usergame_period = usergame.loc[(usergame.timestamp >= period[0]) & (usergame.timestamp <= period[1]) ]\n",
    "    usergame_period = usergame_period[['username','timestamp','uuid']]\n",
    "    usergame_period['dow'] = pd.to_datetime((usergame_period['timestamp']), errors='coerce').dt.day_name()\n",
    "    usergame_period['hour'] = pd.to_datetime((usergame_period['timestamp']), errors='coerce').dt.hour\n",
    "\n",
    "    return usergame_period\n",
    "play_time('AGcuber19',['2022-12-03','2023-01-10'])\n"
   ]
  },
  {
   "cell_type": "code",
   "execution_count": null,
   "id": "2751cfe6",
   "metadata": {},
   "outputs": [],
   "source": []
  }
 ],
 "metadata": {
  "kernelspec": {
   "display_name": "Python 3 (ipykernel)",
   "language": "python",
   "name": "python3"
  },
  "language_info": {
   "codemirror_mode": {
    "name": "ipython",
    "version": 3
   },
   "file_extension": ".py",
   "mimetype": "text/x-python",
   "name": "python",
   "nbconvert_exporter": "python",
   "pygments_lexer": "ipython3",
   "version": "3.9.7"
  }
 },
 "nbformat": 4,
 "nbformat_minor": 5
}
